{
 "cells": [
  {
   "cell_type": "code",
   "execution_count": 1,
   "metadata": {
    "collapsed": true
   },
   "outputs": [],
   "source": [
    "import numpy as np\n",
    "import matplotlib.pyplot as plt\n",
    "from tensorflow.examples.tutorials.mnist import input_data\n",
    "%matplotlib inline"
   ]
  },
  {
   "cell_type": "code",
   "execution_count": 2,
   "metadata": {
    "collapsed": false
   },
   "outputs": [],
   "source": [
    "INPUT = 28\n",
    "HIDDEN = 128\n",
    "OUTPUT = 10\n",
    "\n",
    "INPUT += HIDDEN\n",
    "\n",
    "ALPHA = 0.001\n",
    "BATCH_NUM = 64\n",
    "\n",
    "ITER_NUM = 10000\n",
    "LOG_ITER = ITER_NUM // 10\n",
    "PLOT_ITER = ITER_NUM // 200"
   ]
  },
  {
   "cell_type": "code",
   "execution_count": 3,
   "metadata": {
    "collapsed": false
   },
   "outputs": [
    {
     "name": "stdout",
     "output_type": "stream",
     "text": [
      "Extracting MNIST_data/train-images-idx3-ubyte.gz\n",
      "Extracting MNIST_data/train-labels-idx1-ubyte.gz\n",
      "Extracting MNIST_data/t10k-images-idx3-ubyte.gz\n",
      "Extracting MNIST_data/t10k-labels-idx1-ubyte.gz\n"
     ]
    }
   ],
   "source": [
    "mnist = input_data.read_data_sets('MNIST_data', one_hot=True)\n",
    "\n",
    "wf = np.random.normal(0, 1, [INPUT, HIDDEN])\n",
    "wi = np.random.normal(0, 1, [INPUT, HIDDEN])\n",
    "wc = np.random.normal(0, 1, [INPUT, HIDDEN])\n",
    "wo = np.random.normal(0, 1, [INPUT, HIDDEN])\n",
    "wy = np.random.normal(0, 1, [HIDDEN, OUTPUT])\n",
    "\n",
    "bf = np.random.normal(0, 1, [HIDDEN])\n",
    "bi = np.random.normal(0, 1, [HIDDEN])\n",
    "bc = np.random.normal(0, 1, [HIDDEN])\n",
    "bo = np.random.normal(0, 1, [HIDDEN])\n",
    "by = np.random.normal(0, 1, [OUTPUT])\n",
    "\n",
    "dwf = np.zeros_like(wf)\n",
    "dwi = np.zeros_like(wi)\n",
    "dwc = np.zeros_like(wc)\n",
    "dwo = np.zeros_like(wo)\n",
    "dwy = np.zeros_like(wy)\n",
    "\n",
    "dbf = np.zeros_like(bf)\n",
    "dbi = np.zeros_like(bi)\n",
    "dbc = np.zeros_like(bc)\n",
    "dbo = np.zeros_like(bo)\n",
    "dby = np.zeros_like(by)"
   ]
  },
  {
   "cell_type": "code",
   "execution_count": 4,
   "metadata": {
    "collapsed": true
   },
   "outputs": [],
   "source": [
    "errors = []"
   ]
  },
  {
   "cell_type": "code",
   "execution_count": 5,
   "metadata": {
    "collapsed": true
   },
   "outputs": [],
   "source": [
    "def softmax(arr):\n",
    "    e = np.exp(arr)\n",
    "    return e / np.sum(e)\n",
    "\n",
    "def cross_entropy(out, label):\n",
    "    return -np.sum(label * np.log(out))\n",
    "\n",
    "def sigmoid(arr):\n",
    "    return 1 / 1 + np.exp(-arr)\n",
    "\n",
    "def deriv_sigmoid(out):\n",
    "    return out * (1 - out)\n",
    "\n",
    "def tanh(arr):\n",
    "    return 2 / (1 + np.exp(-2 * arr)) - 1\n",
    "\n",
    "def deriv_tanh(out):\n",
    "    return 1 - np.square(out)"
   ]
  },
  {
   "cell_type": "code",
   "execution_count": 6,
   "metadata": {
    "collapsed": false
   },
   "outputs": [
    {
     "name": "stderr",
     "output_type": "stream",
     "text": [
      "/anaconda/lib/python3.6/site-packages/ipykernel/__main__.py:15: RuntimeWarning: overflow encountered in exp\n",
      "/anaconda/lib/python3.6/site-packages/ipykernel/__main__.py:9: RuntimeWarning: overflow encountered in exp\n",
      "/anaconda/lib/python3.6/site-packages/ipykernel/__main__.py:23: RuntimeWarning: invalid value encountered in add\n"
     ]
    },
    {
     "ename": "ValueError",
     "evalue": "operands could not be broadcast together with shapes (156,128) (784,128) (156,128) ",
     "output_type": "error",
     "traceback": [
      "\u001b[0;31m---------------------------------------------------------------------------\u001b[0m",
      "\u001b[0;31mValueError\u001b[0m                                Traceback (most recent call last)",
      "\u001b[0;32m<ipython-input-6-96ab9dfb2003>\u001b[0m in \u001b[0;36m<module>\u001b[0;34m()\u001b[0m\n\u001b[1;32m     67\u001b[0m         \u001b[0mdhc\u001b[0m \u001b[0;34m=\u001b[0m \u001b[0mdhc\u001b[0m \u001b[0;34m*\u001b[0m \u001b[0mderiv_tanh\u001b[0m\u001b[0;34m(\u001b[0m\u001b[0mhc\u001b[0m\u001b[0;34m)\u001b[0m\u001b[0;34m\u001b[0m\u001b[0m\n\u001b[1;32m     68\u001b[0m \u001b[0;34m\u001b[0m\u001b[0m\n\u001b[0;32m---> 69\u001b[0;31m         \u001b[0mdwf\u001b[0m \u001b[0;34m+=\u001b[0m \u001b[0mnp\u001b[0m\u001b[0;34m.\u001b[0m\u001b[0mdot\u001b[0m\u001b[0;34m(\u001b[0m\u001b[0mX\u001b[0m\u001b[0;34m.\u001b[0m\u001b[0mT\u001b[0m\u001b[0;34m,\u001b[0m \u001b[0mdhf\u001b[0m\u001b[0;34m)\u001b[0m\u001b[0;34m\u001b[0m\u001b[0m\n\u001b[0m\u001b[1;32m     70\u001b[0m         \u001b[0mdbf\u001b[0m \u001b[0;34m+=\u001b[0m \u001b[0mnp\u001b[0m\u001b[0;34m.\u001b[0m\u001b[0msum\u001b[0m\u001b[0;34m(\u001b[0m\u001b[0mdhf\u001b[0m\u001b[0;34m,\u001b[0m \u001b[0maxis\u001b[0m\u001b[0;34m=\u001b[0m\u001b[0;36m1\u001b[0m\u001b[0;34m)\u001b[0m\u001b[0;34m\u001b[0m\u001b[0m\n\u001b[1;32m     71\u001b[0m         \u001b[0mdXf\u001b[0m \u001b[0;34m=\u001b[0m \u001b[0mnp\u001b[0m\u001b[0;34m.\u001b[0m\u001b[0mdot\u001b[0m\u001b[0;34m(\u001b[0m\u001b[0mdhf\u001b[0m\u001b[0;34m,\u001b[0m \u001b[0mwf\u001b[0m\u001b[0;34m.\u001b[0m\u001b[0mT\u001b[0m\u001b[0;34m)\u001b[0m\u001b[0;34m\u001b[0m\u001b[0m\n",
      "\u001b[0;31mValueError\u001b[0m: operands could not be broadcast together with shapes (156,128) (784,128) (156,128) "
     ]
    }
   ],
   "source": [
    "for i in range(ITER_NUM):\n",
    "    X, Y = mnist.train.next_batch(BATCH_NUM)\n",
    "    Xt = np.transpose(np.reshape(X, [-1, 28, 28]), [1, 0, 2])\n",
    "        \n",
    "    caches = []\n",
    "    \n",
    "    hidden_values = []\n",
    "    hidden_values.append(np.zeros([BATCH_NUM, HIDDEN]))\n",
    "        \n",
    "    cell_values = []\n",
    "    cell_values.append(np.zeros([BATCH_NUM, HIDDEN]))\n",
    "        \n",
    "    for x in Xt:\n",
    "        prev_cell = cell_values[-1]\n",
    "        prev_hidden = hidden_values[-1]\n",
    "        x = np.column_stack([x, prev_hidden])\n",
    "            \n",
    "        hf = sigmoid(np.dot(x, wf) + bf)\n",
    "        hi = sigmoid(np.dot(x, wi) + bi)\n",
    "        ho = sigmoid(np.dot(x, wo) + bo)\n",
    "        hc = tanh(np.dot(x, wc) + bc)\n",
    "            \n",
    "        cell = hf * prev_cell + hi * hc\n",
    "        hidden = ho * tanh(cell)\n",
    "        \n",
    "        cell_values.append(cell)\n",
    "        hidden_values.append(hidden)\n",
    "        caches.append([x, hf, hi, ho, hc])\n",
    "        \n",
    "    out = np.dot(hidden, wy) + by\n",
    "    pred = softmax(out)\n",
    "    entropy = cross_entropy(pred, Y)\n",
    "    \n",
    "    dout = pred - Y\n",
    "    dwy = np.dot(hidden.T, dout)\n",
    "    dby = np.sum(dout, axis=1)\n",
    "    \n",
    "    dc_next = np.zeros_like(cell_values[-1])\n",
    "    dh_next = np.zeros_like(hidden_values[-1])\n",
    "    \n",
    "    for x in range(Xt.shape[0]):\n",
    "        cell = cell_values[-x-1]\n",
    "        prev_cell = cell_values[-x-2]\n",
    "        \n",
    "        hidden = hidden_values[-x-1]\n",
    "        prev_hidden = hidden_values[-x-2]\n",
    "        \n",
    "        x, hf, hi, ho, hc = caches[-x-1]\n",
    "        \n",
    "        tc = tanh(cell)\n",
    "        \n",
    "        dh = np.dot(dout, wy.T) + dh_next\n",
    "        \n",
    "        dc = dh * ho * deriv_tanh(tc)\n",
    "        dc = dc + dc_next\n",
    "        \n",
    "        dho = dh * tc \n",
    "        dho = dho * deriv_sigmoid(ho)\n",
    "        \n",
    "        dhf = dc * prev_cell \n",
    "        dhf = dhf * deriv_sigmoid(hf)\n",
    "        \n",
    "        dhi = dc * hc \n",
    "        dhi = dhi * deriv_sigmoid(hi)\n",
    "        \n",
    "        dhc = dc * hi \n",
    "        dhc = dhc * deriv_tanh(hc)\n",
    "        \n",
    "        dwf += np.dot(X.T, dhf)\n",
    "        dbf += np.sum(dhf, axis=1)\n",
    "        dXf = np.dot(dhf, wf.T)\n",
    "        \n",
    "        dwi += np.dot(X.T, dhi)\n",
    "        dbi += np.sum(dhi, axis=1)\n",
    "        dXi = np.dot(dhi, wi.T)\n",
    "        \n",
    "        dwo += np.dot(X.T, dho)\n",
    "        dbo += np.sum(dho, axis=1)\n",
    "        dXo = np.dot(dho, wo.T)\n",
    "        \n",
    "        dhc += np.dot(X.T, dhc)\n",
    "        dbc += np.sum(dhc, axis=1)\n",
    "        dXc = np.dot(dhc, wc.T)\n",
    "        \n",
    "        dX = dXf + dXi + dXo + dXc\n",
    "        \n",
    "        dc_next = hf * dc\n",
    "        dh_next = dX[:, -HIDDEN:]\n",
    "        \n",
    "    wf += ALPHA * dwf\n",
    "    wi += ALPHA * dwi\n",
    "    wc += ALPHA * dwc\n",
    "    wo += ALPHA * dwo\n",
    "    wy += ALPHA * dwy\n",
    "    \n",
    "    bf += ALPHA * dbf\n",
    "    bi += ALPHA * dbi\n",
    "    bc += ALPHA * dbc\n",
    "    bo += ALPHA * dbo\n",
    "    by += ALPHA * dby\n",
    "    \n",
    "    dwf *= 0\n",
    "    dwi *= 0\n",
    "    dwc *= 0\n",
    "    dwo *= 0\n",
    "    dwy *= 0\n",
    "    \n",
    "    dbf *= 0\n",
    "    dbi *= 0\n",
    "    dbc *= 0\n",
    "    dbo *= 0\n",
    "    dby *= 0\n",
    "    \n",
    "    if i % PLOT_ITER == 0:\n",
    "        errors.append(entropy)\n",
    "    \n",
    "    if i % LOG_ITER == 0:\n",
    "        print('iter', i)\n",
    "        print('entropy', entropy)\n",
    "        print('----------')"
   ]
  },
  {
   "cell_type": "code",
   "execution_count": null,
   "metadata": {
    "collapsed": true
   },
   "outputs": [],
   "source": [
    "plt.plot(errors)"
   ]
  }
 ],
 "metadata": {
  "kernelspec": {
   "display_name": "Python 3",
   "language": "python",
   "name": "python3"
  },
  "language_info": {
   "codemirror_mode": {
    "name": "ipython",
    "version": 3
   },
   "file_extension": ".py",
   "mimetype": "text/x-python",
   "name": "python",
   "nbconvert_exporter": "python",
   "pygments_lexer": "ipython3",
   "version": "3.6.0"
  }
 },
 "nbformat": 4,
 "nbformat_minor": 2
}
